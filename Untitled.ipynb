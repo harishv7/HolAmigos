{
 "cells": [
  {
   "cell_type": "code",
   "execution_count": 3,
   "metadata": {
    "collapsed": false
   },
   "outputs": [],
   "source": [
    "read_file = open(\"test.txt\", \"r\")\n",
    "write_file = open(\"indexed_test.txt\", \"w\")\n",
    "\n",
    "ctr = 0\n",
    "\n",
    "line = read_file.readline()\n",
    "while (line != \"\"):\n",
    "    tokens = line.split()\n",
    "    index = tokens[0]\n",
    "    content = \" \".join(tokens[1:])\n",
    "    if (index == \"1\"):\n",
    "        ctr += 1\n",
    "        print(ctr, file = write_file)\n",
    "    print(line, file = write_file)\n",
    "    \n",
    "    line = read_file.readline()"
   ]
  },
  {
   "cell_type": "code",
   "execution_count": null,
   "metadata": {
    "collapsed": true
   },
   "outputs": [],
   "source": []
  }
 ],
 "metadata": {
  "kernelspec": {
   "display_name": "Python [Root]",
   "language": "python",
   "name": "Python [Root]"
  },
  "language_info": {
   "codemirror_mode": {
    "name": "ipython",
    "version": 3
   },
   "file_extension": ".py",
   "mimetype": "text/x-python",
   "name": "python",
   "nbconvert_exporter": "python",
   "pygments_lexer": "ipython3",
   "version": "3.5.2"
  }
 },
 "nbformat": 4,
 "nbformat_minor": 0
}
